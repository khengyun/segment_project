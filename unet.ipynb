{
 "cells": [
  {
   "attachments": {},
   "cell_type": "markdown",
   "metadata": {
    "papermill": {
     "duration": 0.013708,
     "end_time": "2022-02-04T23:37:40.191895",
     "exception": false,
     "start_time": "2022-02-04T23:37:40.178187",
     "status": "completed"
    },
    "tags": []
   },
   "source": [
    "<div align='center'><font size=\"5\" color='#353B47'>Image Segmentation</font></div>\n",
    "<div align='center'><font size=\"4\" color=\"#353B47\">Using U-Net with Keras</font></div>\n",
    "<br>\n",
    "<hr>"
   ]
  },
  {
   "attachments": {},
   "cell_type": "markdown",
   "metadata": {
    "papermill": {
     "duration": 0.012254,
     "end_time": "2022-02-04T23:37:40.216768",
     "exception": false,
     "start_time": "2022-02-04T23:37:40.204514",
     "status": "completed"
    },
    "tags": []
   },
   "source": [
    "## <div id=\"summary\">Table of contents</div>\n",
    "\n",
    "**<font size=\"2\"><a href=\"#chap1\">1. Introduction</a></font>**\n",
    "**<br><font size=\"2\"><a href=\"#chap2\">2. Load Data</a></font>**\n",
    "**<br><font size=\"2\"><a href=\"#chap3\">3. Get Masks</a></font>**\n",
    "**<br><font size=\"2\"><a href=\"#chap4\">4. Training Model</a></font>**\n",
    "**<br><font size=\"2\"><a href=\"#chap5\">5. Predict and Visualize</a></font>**"
   ]
  },
  {
   "attachments": {},
   "cell_type": "markdown",
   "metadata": {
    "papermill": {
     "duration": 0.012173,
     "end_time": "2022-02-04T23:37:40.241639",
     "exception": false,
     "start_time": "2022-02-04T23:37:40.229466",
     "status": "completed"
    },
    "tags": []
   },
   "source": [
    "# <div id=\"chap1\">1. Introduction</div>"
   ]
  },
  {
   "attachments": {},
   "cell_type": "markdown",
   "metadata": {
    "papermill": {
     "duration": 0.01217,
     "end_time": "2022-02-04T23:37:40.266139",
     "exception": false,
     "start_time": "2022-02-04T23:37:40.253969",
     "status": "completed"
    },
    "tags": []
   },
   "source": [
    "The u-net is convolutional network architecture for fast and precise segmentation of images. \n",
    "\n",
    "![](https://lmb.informatik.uni-freiburg.de/people/ronneber/u-net/u-net-architecture.png)\n",
    "\n",
    "U-net architecture (example for 32x32 pixels in the lowest resolution). Each blue box corresponds to a multi-channel feature map. The number of channels is denoted on top of the box. The x-y-size is provided at the lower left edge of the box. White boxes represent copied feature maps. The arrows denote the different operations.\n",
    "\n",
    "This illustration is an example of Unet architecture but layers can have different size."
   ]
  },
  {
   "attachments": {},
   "cell_type": "markdown",
   "metadata": {
    "papermill": {
     "duration": 0.012144,
     "end_time": "2022-02-04T23:37:40.290638",
     "exception": false,
     "start_time": "2022-02-04T23:37:40.278494",
     "status": "completed"
    },
    "tags": []
   },
   "source": [
    "<hr>"
   ]
  },
  {
   "attachments": {},
   "cell_type": "markdown",
   "metadata": {
    "papermill": {
     "duration": 0.012357,
     "end_time": "2022-02-04T23:37:40.315324",
     "exception": false,
     "start_time": "2022-02-04T23:37:40.302967",
     "status": "completed"
    },
    "tags": []
   },
   "source": [
    "# <div id=\"chap2\">Load Data</div>"
   ]
  },
  {
   "attachments": {},
   "cell_type": "markdown",
   "metadata": {
    "papermill": {
     "duration": 0.012611,
     "end_time": "2022-02-04T23:37:40.340287",
     "exception": false,
     "start_time": "2022-02-04T23:37:40.327676",
     "status": "completed"
    },
    "tags": []
   },
   "source": [
    "Libraries"
   ]
  },
  {
   "cell_type": "code",
   "execution_count": 1,
   "metadata": {
    "_kg_hide-input": true,
    "execution": {
     "iopub.execute_input": "2022-02-04T23:37:40.371058Z",
     "iopub.status.busy": "2022-02-04T23:37:40.370442Z",
     "iopub.status.idle": "2022-02-04T23:37:45.466726Z",
     "shell.execute_reply": "2022-02-04T23:37:45.465549Z",
     "shell.execute_reply.started": "2021-10-03T19:50:25.405809Z"
    },
    "papermill": {
     "duration": 5.114328,
     "end_time": "2022-02-04T23:37:45.466972",
     "exception": false,
     "start_time": "2022-02-04T23:37:40.352644",
     "status": "completed"
    },
    "tags": []
   },
   "outputs": [],
   "source": [
    "import tensorflow as tf\n",
    "import zipfile\n",
    "import numpy as np\n",
    "import random\n",
    "import os\n",
    "from tqdm import tqdm\n",
    "from skimage.io import imread, imshow\n",
    "from skimage.transform import resize\n",
    "import matplotlib.pyplot as plt\n",
    "from unet import *\n",
    "from unetpp import *\n",
    "import warnings\n",
    "warnings.filterwarnings('ignore')\n",
    "\n",
    "# # Load the extension and start TensorBoard\n",
    "\n",
    "# %load_ext tensorboard\n",
    "# %tensorboard --logdir logs"
   ]
  },
  {
   "attachments": {},
   "cell_type": "markdown",
   "metadata": {
    "papermill": {
     "duration": 0.012473,
     "end_time": "2022-02-04T23:37:45.493495",
     "exception": false,
     "start_time": "2022-02-04T23:37:45.481022",
     "status": "completed"
    },
    "tags": []
   },
   "source": [
    "Constants"
   ]
  },
  {
   "cell_type": "code",
   "execution_count": 2,
   "metadata": {
    "_kg_hide-input": true,
    "execution": {
     "iopub.execute_input": "2022-02-04T23:37:45.522909Z",
     "iopub.status.busy": "2022-02-04T23:37:45.522011Z",
     "iopub.status.idle": "2022-02-04T23:37:45.524749Z",
     "shell.execute_reply": "2022-02-04T23:37:45.524337Z",
     "shell.execute_reply.started": "2021-10-03T19:50:30.619469Z"
    },
    "papermill": {
     "duration": 0.019006,
     "end_time": "2022-02-04T23:37:45.524870",
     "exception": false,
     "start_time": "2022-02-04T23:37:45.505864",
     "status": "completed"
    },
    "tags": []
   },
   "outputs": [],
   "source": [
    "SEED = 42\n",
    "np.random.seed = SEED\n",
    "\n",
    "UNZIP_PATH = '../input/data-science-bowl-2018/'\n",
    "TRAIN_PATH = 'dataset/cell/stage1_train/'\n",
    "TEST_PATH = 'dataset/cell/stage1_test/'\n",
    "\n",
    "IMG_WIDTH = 128\n",
    "IMG_HEIGHT = 128\n",
    "IMG_CHANNELS = 3"
   ]
  },
  {
   "cell_type": "code",
   "execution_count": 3,
   "metadata": {
    "execution": {
     "iopub.execute_input": "2022-02-04T23:37:51.264921Z",
     "iopub.status.busy": "2022-02-04T23:37:51.264167Z",
     "iopub.status.idle": "2022-02-04T23:37:51.269004Z",
     "shell.execute_reply": "2022-02-04T23:37:51.268506Z",
     "shell.execute_reply.started": "2021-10-03T19:50:36.697581Z"
    },
    "papermill": {
     "duration": 0.020806,
     "end_time": "2022-02-04T23:37:51.269117",
     "exception": false,
     "start_time": "2022-02-04T23:37:51.248311",
     "status": "completed"
    },
    "tags": []
   },
   "outputs": [],
   "source": [
    "# get list of all subfolders\n",
    "train_ids = next(os.walk(TRAIN_PATH))[1]\n",
    "test_ids = next(os.walk(TEST_PATH))[1]"
   ]
  },
  {
   "cell_type": "code",
   "execution_count": 4,
   "metadata": {
    "execution": {
     "iopub.execute_input": "2022-02-04T23:37:51.300268Z",
     "iopub.status.busy": "2022-02-04T23:37:51.298437Z",
     "iopub.status.idle": "2022-02-04T23:37:51.300846Z",
     "shell.execute_reply": "2022-02-04T23:37:51.301245Z",
     "shell.execute_reply.started": "2021-10-03T19:50:36.707975Z"
    },
    "papermill": {
     "duration": 0.019833,
     "end_time": "2022-02-04T23:37:51.301373",
     "exception": false,
     "start_time": "2022-02-04T23:37:51.281540",
     "status": "completed"
    },
    "tags": []
   },
   "outputs": [],
   "source": [
    "# define placeholders (also used to replace NaN in images to resize by 0)\n",
    "X_train = np.zeros((len(train_ids), IMG_HEIGHT, IMG_WIDTH, IMG_CHANNELS), dtype = np.uint8)\n",
    "Y_train = np.zeros((len(train_ids), IMG_HEIGHT, IMG_WIDTH, 1), dtype =bool)"
   ]
  },
  {
   "attachments": {},
   "cell_type": "markdown",
   "metadata": {
    "papermill": {
     "duration": 0.012112,
     "end_time": "2022-02-04T23:37:51.326149",
     "exception": false,
     "start_time": "2022-02-04T23:37:51.314037",
     "status": "completed"
    },
    "tags": []
   },
   "source": [
    "# <div id=\"chap3\">Get Masks</div>"
   ]
  },
  {
   "cell_type": "code",
   "execution_count": 10,
   "metadata": {
    "execution": {
     "iopub.execute_input": "2022-02-04T23:37:51.357279Z",
     "iopub.status.busy": "2022-02-04T23:37:51.356730Z",
     "iopub.status.idle": "2022-02-04T23:41:53.766100Z",
     "shell.execute_reply": "2022-02-04T23:41:53.766710Z",
     "shell.execute_reply.started": "2021-10-03T19:50:36.716679Z"
    },
    "papermill": {
     "duration": 242.428524,
     "end_time": "2022-02-04T23:41:53.766943",
     "exception": false,
     "start_time": "2022-02-04T23:37:51.338419",
     "status": "completed"
    },
    "tags": []
   },
   "outputs": [
    {
     "name": "stderr",
     "output_type": "stream",
     "text": [
      "100%|██████████| 670/670 [05:38<00:00,  1.98it/s]\n"
     ]
    }
   ],
   "source": [
    "# Resize images and masks\n",
    "for n, id_ in tqdm(enumerate(train_ids), total=len(train_ids)):\n",
    "    \n",
    "    path = TRAIN_PATH + id_\n",
    "    img = imread(path + '/images/' + id_ + '.png')[:, :, :IMG_CHANNELS]\n",
    "    img = resize(\n",
    "        img, (IMG_HEIGHT, IMG_WIDTH), \n",
    "        mode = 'constant', \n",
    "        preserve_range = True\n",
    "    )\n",
    "    \n",
    "    X_train[n] = img # fill empty X_train with values from img \n",
    "    mask = np.zeros((IMG_HEIGHT, IMG_WIDTH, 1), dtype = bool)\n",
    "    \n",
    "    for mask_file in next(os.walk(path + '/masks/'))[2]:\n",
    "        mask_ = imread(path + '/masks/' + mask_file)\n",
    "        mask_ = np.expand_dims(\n",
    "            resize(\n",
    "                mask_, \n",
    "                (IMG_HEIGHT, IMG_WIDTH), \n",
    "                mode = 'constant', \n",
    "                preserve_range = True\n",
    "            ), \n",
    "            axis = -1\n",
    "        )\n",
    "        mask = np.maximum(mask, mask_)\n",
    "    \n",
    "    Y_train[n] = mask\n",
    "    \n",
    "    \n",
    "import numpy as np\n",
    "\n",
    "# Assuming you have xtrain and ytrain datasets\n",
    "\n",
    "# Define the directory path to save the datasets\n",
    "save_directory = 'dataset/cell/saved/'\n",
    "# Save xtrain\n",
    "np.save(save_directory+'image.npy', X_train)\n",
    "# Save ytrain\n",
    "np.save(save_directory+'mask.npy', Y_train)\n",
    "\n",
    "\n"
   ]
  },
  {
   "cell_type": "code",
   "execution_count": 5,
   "metadata": {
    "execution": {
     "iopub.execute_input": "2022-02-04T23:41:53.998999Z",
     "iopub.status.busy": "2022-02-04T23:41:53.998170Z",
     "iopub.status.idle": "2022-02-04T23:41:55.227733Z",
     "shell.execute_reply": "2022-02-04T23:41:55.227075Z",
     "shell.execute_reply.started": "2021-10-03T19:54:35.235634Z"
    },
    "papermill": {
     "duration": 1.34419,
     "end_time": "2022-02-04T23:41:55.227913",
     "exception": false,
     "start_time": "2022-02-04T23:41:53.883723",
     "status": "completed"
    },
    "tags": []
   },
   "outputs": [
    {
     "name": "stderr",
     "output_type": "stream",
     "text": [
      "100%|██████████| 65/65 [00:01<00:00, 58.41it/s]\n"
     ]
    }
   ],
   "source": [
    "# test images\n",
    "X_test = np.zeros(\n",
    "    (\n",
    "        len(test_ids), \n",
    "        IMG_HEIGHT, \n",
    "        IMG_WIDTH, \n",
    "        IMG_CHANNELS\n",
    "    ), \n",
    "    dtype = np.uint8\n",
    ")\n",
    "\n",
    "sizes_test = []\n",
    "for n, id_ in tqdm(enumerate(test_ids), total=len(test_ids)):\n",
    "    path = TEST_PATH + id_\n",
    "    img = imread(path + '/images/' + id_ + '.png')[:,:,:IMG_CHANNELS]\n",
    "    sizes_test.append([img.shape[0], img.shape[1]])\n",
    "    img = resize(\n",
    "        img, \n",
    "        (IMG_HEIGHT, IMG_WIDTH), \n",
    "        mode = 'constant', \n",
    "        preserve_range = True\n",
    "    )\n",
    "    X_test[n] = img"
   ]
  },
  {
   "attachments": {},
   "cell_type": "markdown",
   "metadata": {},
   "source": [
    "# <div id=\"chap3\">Export Masks if you saved dataset before </div>"
   ]
  },
  {
   "cell_type": "code",
   "execution_count": 6,
   "metadata": {},
   "outputs": [
    {
     "ename": "NameError",
     "evalue": "name 'save_directory' is not defined",
     "output_type": "error",
     "traceback": [
      "\u001b[1;31m---------------------------------------------------------------------------\u001b[0m",
      "\u001b[1;31mNameError\u001b[0m                                 Traceback (most recent call last)",
      "Cell \u001b[1;32mIn[6], line 2\u001b[0m\n\u001b[0;32m      1\u001b[0m export_directory \u001b[39m=\u001b[39m \u001b[39m'\u001b[39m\u001b[39mdataset/cell/saved/\u001b[39m\u001b[39m'\u001b[39m\n\u001b[1;32m----> 2\u001b[0m X_train \u001b[39m=\u001b[39m np\u001b[39m.\u001b[39mload(save_directory\u001b[39m+\u001b[39m\u001b[39m'\u001b[39m\u001b[39mimage.npy\u001b[39m\u001b[39m'\u001b[39m)\n\u001b[0;32m      3\u001b[0m \u001b[39m# Save ytrain\u001b[39;00m\n\u001b[0;32m      4\u001b[0m Y_train \u001b[39m=\u001b[39m np\u001b[39m.\u001b[39mload(save_directory\u001b[39m+\u001b[39m\u001b[39m'\u001b[39m\u001b[39mmask.npy\u001b[39m\u001b[39m'\u001b[39m)\n",
      "\u001b[1;31mNameError\u001b[0m: name 'save_directory' is not defined"
     ]
    }
   ],
   "source": [
    "export_directory = 'dataset/cell/saved/'\n",
    "X_train = np.load(export_directory+'image.npy')\n",
    "# Save ytrain\n",
    "Y_train = np.load(export_directory+'mask.npy')"
   ]
  },
  {
   "attachments": {},
   "cell_type": "markdown",
   "metadata": {
    "papermill": {
     "duration": 0.1219,
     "end_time": "2022-02-04T23:41:55.476425",
     "exception": false,
     "start_time": "2022-02-04T23:41:55.354525",
     "status": "completed"
    },
    "tags": []
   },
   "source": [
    "# <div id=\"chap4\">4. Training Model</div>"
   ]
  },
  {
   "cell_type": "code",
   "execution_count": 12,
   "metadata": {
    "execution": {
     "iopub.execute_input": "2022-02-04T23:41:55.764715Z",
     "iopub.status.busy": "2022-02-04T23:41:55.763756Z",
     "iopub.status.idle": "2022-02-04T23:41:58.492134Z",
     "shell.execute_reply": "2022-02-04T23:41:58.492559Z",
     "shell.execute_reply.started": "2021-10-03T19:54:36.391965Z"
    },
    "papermill": {
     "duration": 2.894274,
     "end_time": "2022-02-04T23:41:58.492727",
     "exception": false,
     "start_time": "2022-02-04T23:41:55.598453",
     "status": "completed"
    },
    "tags": []
   },
   "outputs": [
    {
     "name": "stdout",
     "output_type": "stream",
     "text": [
      "Model: \"UNetPP\"\n",
      "__________________________________________________________________________________________________\n",
      "Layer (type)                    Output Shape         Param #     Connected to                     \n",
      "==================================================================================================\n",
      "InputLayer (InputLayer)         [(None, 128, 128, 3) 0                                            \n",
      "__________________________________________________________________________________________________\n",
      "conv00_1 (Conv2D)               (None, 128, 128, 16) 448         InputLayer[0][0]                 \n",
      "__________________________________________________________________________________________________\n",
      "X00_ (Dropout)                  (None, 128, 128, 16) 0           conv00_1[0][0]                   \n",
      "__________________________________________________________________________________________________\n",
      "conv00_2 (Conv2D)               (None, 128, 128, 16) 2320        X00_[0][0]                       \n",
      "__________________________________________________________________________________________________\n",
      "X00 (Dropout)                   (None, 128, 128, 16) 0           conv00_2[0][0]                   \n",
      "__________________________________________________________________________________________________\n",
      "pool0 (MaxPooling2D)            (None, 64, 64, 16)   0           X00[0][0]                        \n",
      "__________________________________________________________________________________________________\n",
      "conv10_1 (Conv2D)               (None, 64, 64, 32)   4640        pool0[0][0]                      \n",
      "__________________________________________________________________________________________________\n",
      "X10_ (Dropout)                  (None, 64, 64, 32)   0           conv10_1[0][0]                   \n",
      "__________________________________________________________________________________________________\n",
      "conv10_2 (Conv2D)               (None, 64, 64, 32)   9248        X10_[0][0]                       \n",
      "__________________________________________________________________________________________________\n",
      "X10 (Dropout)                   (None, 64, 64, 32)   0           conv10_2[0][0]                   \n",
      "__________________________________________________________________________________________________\n",
      "pool1 (MaxPooling2D)            (None, 32, 32, 32)   0           X10[0][0]                        \n",
      "__________________________________________________________________________________________________\n",
      "conv20_1 (Conv2D)               (None, 32, 32, 64)   18496       pool1[0][0]                      \n",
      "__________________________________________________________________________________________________\n",
      "X20_ (Dropout)                  (None, 32, 32, 64)   0           conv20_1[0][0]                   \n",
      "__________________________________________________________________________________________________\n",
      "conv20_2 (Conv2D)               (None, 32, 32, 64)   36928       X20_[0][0]                       \n",
      "__________________________________________________________________________________________________\n",
      "X20 (Dropout)                   (None, 32, 32, 64)   0           conv20_2[0][0]                   \n",
      "__________________________________________________________________________________________________\n",
      "pool2 (MaxPooling2D)            (None, 16, 16, 64)   0           X20[0][0]                        \n",
      "__________________________________________________________________________________________________\n",
      "conv30_1 (Conv2D)               (None, 16, 16, 128)  73856       pool2[0][0]                      \n",
      "__________________________________________________________________________________________________\n",
      "X30_ (Dropout)                  (None, 16, 16, 128)  0           conv30_1[0][0]                   \n",
      "__________________________________________________________________________________________________\n",
      "conv30_2 (Conv2D)               (None, 16, 16, 128)  147584      X30_[0][0]                       \n",
      "__________________________________________________________________________________________________\n",
      "X30 (Dropout)                   (None, 16, 16, 128)  0           conv30_2[0][0]                   \n",
      "__________________________________________________________________________________________________\n",
      "pool3 (MaxPooling2D)            (None, 8, 8, 128)    0           X30[0][0]                        \n",
      "__________________________________________________________________________________________________\n",
      "conv40_1 (Conv2D)               (None, 8, 8, 256)    295168      pool3[0][0]                      \n",
      "__________________________________________________________________________________________________\n",
      "X40_ (Dropout)                  (None, 8, 8, 256)    0           conv40_1[0][0]                   \n",
      "__________________________________________________________________________________________________\n",
      "conv40_2 (Conv2D)               (None, 8, 8, 256)    590080      X40_[0][0]                       \n",
      "__________________________________________________________________________________________________\n",
      "X40 (Dropout)                   (None, 8, 8, 256)    0           conv40_2[0][0]                   \n",
      "__________________________________________________________________________________________________\n",
      "upsample31 (Conv2DTranspose)    (None, 16, 16, 128)  131200      X40[0][0]                        \n",
      "__________________________________________________________________________________________________\n",
      "concat31 (Concatenate)          (None, 16, 16, 256)  0           upsample31[0][0]                 \n",
      "                                                                 X30[0][0]                        \n",
      "__________________________________________________________________________________________________\n",
      "upsample21 (Conv2DTranspose)    (None, 32, 32, 64)   32832       X30[0][0]                        \n",
      "__________________________________________________________________________________________________\n",
      "conv31_1 (Conv2D)               (None, 16, 16, 128)  295040      concat31[0][0]                   \n",
      "__________________________________________________________________________________________________\n",
      "concat21 (Concatenate)          (None, 32, 32, 128)  0           upsample21[0][0]                 \n",
      "                                                                 X20[0][0]                        \n",
      "__________________________________________________________________________________________________\n",
      "upsample11 (Conv2DTranspose)    (None, 64, 64, 32)   8224        X20[0][0]                        \n",
      "__________________________________________________________________________________________________\n",
      "X31_ (Dropout)                  (None, 16, 16, 128)  0           conv31_1[0][0]                   \n",
      "__________________________________________________________________________________________________\n",
      "conv21_1 (Conv2D)               (None, 32, 32, 64)   73792       concat21[0][0]                   \n",
      "__________________________________________________________________________________________________\n",
      "concat11 (Concatenate)          (None, 64, 64, 64)   0           upsample11[0][0]                 \n",
      "                                                                 X10[0][0]                        \n",
      "__________________________________________________________________________________________________\n",
      "upsample01 (Conv2DTranspose)    (None, 128, 128, 16) 2064        X10[0][0]                        \n",
      "__________________________________________________________________________________________________\n",
      "conv31_2 (Conv2D)               (None, 16, 16, 128)  147584      X31_[0][0]                       \n",
      "__________________________________________________________________________________________________\n",
      "X21_ (Dropout)                  (None, 32, 32, 64)   0           conv21_1[0][0]                   \n",
      "__________________________________________________________________________________________________\n",
      "conv11_1 (Conv2D)               (None, 64, 64, 32)   18464       concat11[0][0]                   \n",
      "__________________________________________________________________________________________________\n",
      "concat01 (Concatenate)          (None, 128, 128, 32) 0           upsample01[0][0]                 \n",
      "                                                                 X00[0][0]                        \n",
      "__________________________________________________________________________________________________\n",
      "X31 (Dropout)                   (None, 16, 16, 128)  0           conv31_2[0][0]                   \n",
      "__________________________________________________________________________________________________\n",
      "conv21_2 (Conv2D)               (None, 32, 32, 64)   36928       X21_[0][0]                       \n",
      "__________________________________________________________________________________________________\n",
      "X11_ (Dropout)                  (None, 64, 64, 32)   0           conv11_1[0][0]                   \n",
      "__________________________________________________________________________________________________\n",
      "conv01_1 (Conv2D)               (None, 128, 128, 16) 4624        concat01[0][0]                   \n",
      "__________________________________________________________________________________________________\n",
      "upsample22 (Conv2DTranspose)    (None, 32, 32, 64)   32832       X31[0][0]                        \n",
      "__________________________________________________________________________________________________\n",
      "X21 (Dropout)                   (None, 32, 32, 64)   0           conv21_2[0][0]                   \n",
      "__________________________________________________________________________________________________\n",
      "conv11_2 (Conv2D)               (None, 64, 64, 32)   9248        X11_[0][0]                       \n",
      "__________________________________________________________________________________________________\n",
      "X01_ (Dropout)                  (None, 128, 128, 16) 0           conv01_1[0][0]                   \n",
      "__________________________________________________________________________________________________\n",
      "concat22 (Concatenate)          (None, 32, 32, 192)  0           upsample22[0][0]                 \n",
      "                                                                 X20[0][0]                        \n",
      "                                                                 X21[0][0]                        \n",
      "__________________________________________________________________________________________________\n",
      "X11 (Dropout)                   (None, 64, 64, 32)   0           conv11_2[0][0]                   \n",
      "__________________________________________________________________________________________________\n",
      "upsample12 (Conv2DTranspose)    (None, 64, 64, 32)   8224        X21[0][0]                        \n",
      "__________________________________________________________________________________________________\n",
      "conv01_2 (Conv2D)               (None, 128, 128, 16) 2320        X01_[0][0]                       \n",
      "__________________________________________________________________________________________________\n",
      "conv22_1 (Conv2D)               (None, 32, 32, 64)   110656      concat22[0][0]                   \n",
      "__________________________________________________________________________________________________\n",
      "concat12 (Concatenate)          (None, 64, 64, 96)   0           upsample12[0][0]                 \n",
      "                                                                 X10[0][0]                        \n",
      "                                                                 X11[0][0]                        \n",
      "__________________________________________________________________________________________________\n",
      "X01 (Dropout)                   (None, 128, 128, 16) 0           conv01_2[0][0]                   \n",
      "__________________________________________________________________________________________________\n",
      "upsample02 (Conv2DTranspose)    (None, 128, 128, 16) 2064        X11[0][0]                        \n",
      "__________________________________________________________________________________________________\n",
      "X22_ (Dropout)                  (None, 32, 32, 64)   0           conv22_1[0][0]                   \n",
      "__________________________________________________________________________________________________\n",
      "conv12_1 (Conv2D)               (None, 64, 64, 32)   27680       concat12[0][0]                   \n",
      "__________________________________________________________________________________________________\n",
      "concat02 (Concatenate)          (None, 128, 128, 48) 0           upsample02[0][0]                 \n",
      "                                                                 X00[0][0]                        \n",
      "                                                                 X01[0][0]                        \n",
      "__________________________________________________________________________________________________\n",
      "conv22_2 (Conv2D)               (None, 32, 32, 64)   36928       X22_[0][0]                       \n",
      "__________________________________________________________________________________________________\n",
      "X12_ (Dropout)                  (None, 64, 64, 32)   0           conv12_1[0][0]                   \n",
      "__________________________________________________________________________________________________\n",
      "conv02_1 (Conv2D)               (None, 128, 128, 16) 6928        concat02[0][0]                   \n",
      "__________________________________________________________________________________________________\n",
      "X22 (Dropout)                   (None, 32, 32, 64)   0           conv22_2[0][0]                   \n",
      "__________________________________________________________________________________________________\n",
      "conv12_2 (Conv2D)               (None, 64, 64, 32)   9248        X12_[0][0]                       \n",
      "__________________________________________________________________________________________________\n",
      "X02_ (Dropout)                  (None, 128, 128, 16) 0           conv02_1[0][0]                   \n",
      "__________________________________________________________________________________________________\n",
      "upsample13 (Conv2DTranspose)    (None, 64, 64, 32)   8224        X22[0][0]                        \n",
      "__________________________________________________________________________________________________\n",
      "X12 (Dropout)                   (None, 64, 64, 32)   0           conv12_2[0][0]                   \n",
      "__________________________________________________________________________________________________\n",
      "conv02_2 (Conv2D)               (None, 128, 128, 16) 2320        X02_[0][0]                       \n",
      "__________________________________________________________________________________________________\n",
      "concat13 (Concatenate)          (None, 64, 64, 128)  0           upsample13[0][0]                 \n",
      "                                                                 X10[0][0]                        \n",
      "                                                                 X11[0][0]                        \n",
      "                                                                 X12[0][0]                        \n",
      "__________________________________________________________________________________________________\n",
      "X02 (Dropout)                   (None, 128, 128, 16) 0           conv02_2[0][0]                   \n",
      "__________________________________________________________________________________________________\n",
      "upsample03 (Conv2DTranspose)    (None, 128, 128, 16) 2064        X12[0][0]                        \n",
      "__________________________________________________________________________________________________\n",
      "conv13_1 (Conv2D)               (None, 64, 64, 32)   36896       concat13[0][0]                   \n",
      "__________________________________________________________________________________________________\n",
      "concat03 (Concatenate)          (None, 128, 128, 64) 0           upsample03[0][0]                 \n",
      "                                                                 X00[0][0]                        \n",
      "                                                                 X01[0][0]                        \n",
      "                                                                 X02[0][0]                        \n",
      "__________________________________________________________________________________________________\n",
      "X13_ (Dropout)                  (None, 64, 64, 32)   0           conv13_1[0][0]                   \n",
      "__________________________________________________________________________________________________\n",
      "conv03_1 (Conv2D)               (None, 128, 128, 16) 9232        concat03[0][0]                   \n",
      "__________________________________________________________________________________________________\n",
      "conv13_2 (Conv2D)               (None, 64, 64, 32)   9248        X13_[0][0]                       \n",
      "__________________________________________________________________________________________________\n",
      "X03_ (Dropout)                  (None, 128, 128, 16) 0           conv03_1[0][0]                   \n",
      "__________________________________________________________________________________________________\n",
      "X13 (Dropout)                   (None, 64, 64, 32)   0           conv13_2[0][0]                   \n",
      "__________________________________________________________________________________________________\n",
      "conv03_2 (Conv2D)               (None, 128, 128, 16) 2320        X03_[0][0]                       \n",
      "__________________________________________________________________________________________________\n",
      "upsample04 (Conv2DTranspose)    (None, 128, 128, 16) 2064        X13[0][0]                        \n",
      "__________________________________________________________________________________________________\n",
      "X03 (Dropout)                   (None, 128, 128, 16) 0           conv03_2[0][0]                   \n",
      "__________________________________________________________________________________________________\n",
      "concat04 (Concatenate)          (None, 128, 128, 80) 0           upsample04[0][0]                 \n",
      "                                                                 X00[0][0]                        \n",
      "                                                                 X01[0][0]                        \n",
      "                                                                 X02[0][0]                        \n",
      "                                                                 X03[0][0]                        \n",
      "__________________________________________________________________________________________________\n",
      "conv04_1 (Conv2D)               (None, 128, 128, 16) 11536       concat04[0][0]                   \n",
      "__________________________________________________________________________________________________\n",
      "X04_ (Dropout)                  (None, 128, 128, 16) 0           conv04_1[0][0]                   \n",
      "__________________________________________________________________________________________________\n",
      "conv04_2 (Conv2D)               (None, 128, 128, 16) 2320        X04_[0][0]                       \n",
      "__________________________________________________________________________________________________\n",
      "X04 (Dropout)                   (None, 128, 128, 16) 0           conv04_2[0][0]                   \n",
      "__________________________________________________________________________________________________\n",
      "op4 (Conv2D)                    (None, 128, 128, 1)  17          X04[0][0]                        \n",
      "==================================================================================================\n",
      "Total params: 2,261,889\n",
      "Trainable params: 2,261,889\n",
      "Non-trainable params: 0\n",
      "__________________________________________________________________________________________________\n"
     ]
    }
   ],
   "source": [
    "# import model\n",
    "from unet import *\n",
    "from unetpp import *\n",
    "\n",
    "\n",
    "\n",
    "model = unet()\n",
    "\n",
    "\n",
    "\n",
    "model.summary()\n"
   ]
  },
  {
   "cell_type": "code",
   "execution_count": 13,
   "metadata": {
    "execution": {
     "iopub.execute_input": "2022-02-04T23:41:59.003460Z",
     "iopub.status.busy": "2022-02-04T23:41:59.002121Z",
     "iopub.status.idle": "2022-02-04T23:41:59.006567Z",
     "shell.execute_reply": "2022-02-04T23:41:59.006041Z",
     "shell.execute_reply.started": "2021-10-03T19:54:39.070793Z"
    },
    "papermill": {
     "duration": 0.399366,
     "end_time": "2022-02-04T23:41:59.006716",
     "exception": false,
     "start_time": "2022-02-04T23:41:58.607350",
     "status": "completed"
    },
    "tags": []
   },
   "outputs": [],
   "source": [
    "# Callbacks\n",
    "checkpoiter = tf.keras.callbacks.ModelCheckpoint('model.h5', verbose = 1, save_best_only = True)\n",
    "callbacks = [\n",
    "    tf.keras.callbacks.EarlyStopping(patience = 5, monitor = 'val_loss'),\n",
    "    tf.keras.callbacks.TensorBoard(log_dir = 'logs')\n",
    "            ]"
   ]
  },
  {
   "cell_type": "code",
   "execution_count": 14,
   "metadata": {
    "execution": {
     "iopub.execute_input": "2022-02-04T23:41:59.397713Z",
     "iopub.status.busy": "2022-02-04T23:41:59.397203Z",
     "iopub.status.idle": "2022-02-04T23:42:29.764020Z",
     "shell.execute_reply": "2022-02-04T23:42:29.761715Z",
     "shell.execute_reply.started": "2021-10-03T19:54:39.267541Z"
    },
    "papermill": {
     "duration": 30.599175,
     "end_time": "2022-02-04T23:42:29.764177",
     "exception": false,
     "start_time": "2022-02-04T23:41:59.165002",
     "status": "completed"
    },
    "tags": []
   },
   "outputs": [
    {
     "name": "stdout",
     "output_type": "stream",
     "text": [
      "Epoch 1/25\n",
      "38/38 [==============================] - 114s 3s/step - loss: 1.3474 - iou: 0.1852 - val_loss: 0.6511 - val_iou: 0.1772\n",
      "Epoch 2/25\n",
      "38/38 [==============================] - 111s 3s/step - loss: 0.6393 - iou: 0.1880 - val_loss: 0.6131 - val_iou: 0.1701\n",
      "Epoch 3/25\n",
      "38/38 [==============================] - 110s 3s/step - loss: 0.6122 - iou: 0.1801 - val_loss: 0.5865 - val_iou: 0.1635\n",
      "Epoch 4/25\n",
      "38/38 [==============================] - 111s 3s/step - loss: 0.5949 - iou: 0.1731 - val_loss: 0.5681 - val_iou: 0.1573\n",
      "Epoch 5/25\n",
      "38/38 [==============================] - 115s 3s/step - loss: 0.5839 - iou: 0.1667 - val_loss: 0.5560 - val_iou: 0.1520\n",
      "Epoch 6/25\n",
      "38/38 [==============================] - 112s 3s/step - loss: 0.5774 - iou: 0.1608 - val_loss: 0.5485 - val_iou: 0.1476\n",
      "Epoch 7/25\n",
      "38/38 [==============================] - 109s 3s/step - loss: 0.5738 - iou: 0.1567 - val_loss: 0.5436 - val_iou: 0.1441\n",
      "Epoch 8/25\n",
      "38/38 [==============================] - 108s 3s/step - loss: 0.5719 - iou: 0.1532 - val_loss: 0.5407 - val_iou: 0.1415\n",
      "Epoch 9/25\n",
      "38/38 [==============================] - 107s 3s/step - loss: 0.5711 - iou: 0.1508 - val_loss: 0.5388 - val_iou: 0.1395\n",
      "Epoch 10/25\n",
      "38/38 [==============================] - 110s 3s/step - loss: 0.5707 - iou: 0.1490 - val_loss: 0.5381 - val_iou: 0.1388\n",
      "Epoch 11/25\n",
      "38/38 [==============================] - 109s 3s/step - loss: 0.5704 - iou: 0.1480 - val_loss: 0.5372 - val_iou: 0.1376\n",
      "Epoch 12/25\n",
      "38/38 [==============================] - 108s 3s/step - loss: 0.5680 - iou: 0.1518 - val_loss: 0.4908 - val_iou: 0.1772\n",
      "Epoch 13/25\n",
      "38/38 [==============================] - 111s 3s/step - loss: 0.4864 - iou: 0.2635 - val_loss: 0.3803 - val_iou: 0.2932\n",
      "Epoch 14/25\n",
      "38/38 [==============================] - 114s 3s/step - loss: 0.4174 - iou: 0.3190 - val_loss: 0.3128 - val_iou: 0.3807\n",
      "Epoch 15/25\n",
      "38/38 [==============================] - 117s 3s/step - loss: 0.3467 - iou: 0.3978 - val_loss: 0.3340 - val_iou: 0.4281\n",
      "Epoch 16/25\n",
      "38/38 [==============================] - 113s 3s/step - loss: 0.3105 - iou: 0.4411 - val_loss: 0.3406 - val_iou: 0.4633\n",
      "Epoch 17/25\n",
      "38/38 [==============================] - 92s 2s/step - loss: 0.2717 - iou: 0.4921 - val_loss: 0.2681 - val_iou: 0.5312\n",
      "Epoch 18/25\n",
      "38/38 [==============================] - 90s 2s/step - loss: 0.2555 - iou: 0.5129 - val_loss: 0.2391 - val_iou: 0.5382\n",
      "Epoch 19/25\n",
      "38/38 [==============================] - 82s 2s/step - loss: 0.2426 - iou: 0.5353 - val_loss: 0.2330 - val_iou: 0.5826\n",
      "Epoch 20/25\n",
      "38/38 [==============================] - 79s 2s/step - loss: 0.2261 - iou: 0.5632 - val_loss: 0.2266 - val_iou: 0.5749\n",
      "Epoch 21/25\n",
      "38/38 [==============================] - 80s 2s/step - loss: 0.2203 - iou: 0.5756 - val_loss: 0.1806 - val_iou: 0.6121\n",
      "Epoch 22/25\n",
      "38/38 [==============================] - 76s 2s/step - loss: 0.2126 - iou: 0.5890 - val_loss: 0.1659 - val_iou: 0.6525\n",
      "Epoch 23/25\n",
      "38/38 [==============================] - 80s 2s/step - loss: 0.2017 - iou: 0.6129 - val_loss: 0.1695 - val_iou: 0.6544\n",
      "Epoch 24/25\n",
      "38/38 [==============================] - 91s 2s/step - loss: 0.1958 - iou: 0.6173 - val_loss: 0.1529 - val_iou: 0.6818\n",
      "Epoch 25/25\n",
      "38/38 [==============================] - 88s 2s/step - loss: 0.1956 - iou: 0.6241 - val_loss: 0.1597 - val_iou: 0.6967\n"
     ]
    }
   ],
   "source": [
    "results = model.fit(\n",
    "    X_train, \n",
    "    Y_train, \n",
    "    validation_split = 0.1, \n",
    "    batch_size = 16, \n",
    "    epochs = 25, \n",
    "    callbacks = callbacks)"
   ]
  },
  {
   "attachments": {},
   "cell_type": "markdown",
   "metadata": {
    "papermill": {
     "duration": 0.22287,
     "end_time": "2022-02-04T23:42:30.198830",
     "exception": false,
     "start_time": "2022-02-04T23:42:29.975960",
     "status": "completed"
    },
    "tags": []
   },
   "source": [
    "# <div id=\"chap5\">5. Predict and Visualize</div>"
   ]
  },
  {
   "cell_type": "code",
   "execution_count": 15,
   "metadata": {
    "execution": {
     "iopub.execute_input": "2022-02-04T23:42:30.631320Z",
     "iopub.status.busy": "2022-02-04T23:42:30.630326Z",
     "iopub.status.idle": "2022-02-04T23:42:31.749952Z",
     "shell.execute_reply": "2022-02-04T23:42:31.749478Z",
     "shell.execute_reply.started": "2021-10-03T19:55:09.656281Z"
    },
    "papermill": {
     "duration": 1.331583,
     "end_time": "2022-02-04T23:42:31.750092",
     "exception": false,
     "start_time": "2022-02-04T23:42:30.418509",
     "status": "completed"
    },
    "tags": []
   },
   "outputs": [
    {
     "name": "stdout",
     "output_type": "stream",
     "text": [
      "19/19 [==============================] - 11s 536ms/step\n",
      "3/3 [==============================] - 1s 295ms/step\n",
      "3/3 [==============================] - 1s 320ms/step\n"
     ]
    }
   ],
   "source": [
    "# Predictions\n",
    "idx = random.randint(0, len(X_train))\n",
    "\n",
    "preds_train = model.predict(X_train[:int(X_train.shape[0]*0.9)], verbose = 1)\n",
    "preds_val = model.predict(X_train[int(X_train.shape[0]*0.9):], verbose = 1)\n",
    "preds_test = model.predict(X_test, verbose = 1)\n",
    "\n",
    "preds_train_t = (preds_train > 0.5).astype(np.uint8)\n",
    "preds_val_t = (preds_val > 0.5).astype(np.uint8)\n",
    "preds_test_t = (preds_test > 0.5).astype(np.uint8)"
   ]
  },
  {
   "cell_type": "code",
   "execution_count": 18,
   "metadata": {
    "execution": {
     "iopub.execute_input": "2022-02-04T23:42:32.251126Z",
     "iopub.status.busy": "2022-02-04T23:42:32.250217Z",
     "iopub.status.idle": "2022-02-04T23:42:32.929845Z",
     "shell.execute_reply": "2022-02-04T23:42:32.929381Z"
    },
    "papermill": {
     "duration": 0.970521,
     "end_time": "2022-02-04T23:42:32.930021",
     "exception": false,
     "start_time": "2022-02-04T23:42:31.959500",
     "status": "completed"
    },
    "tags": []
   },
   "outputs": [
    {
     "data": {
      "image/png": "[encoded data removed]",
      "text/plain": [
       "<Figure size 640x480 with 1 Axes>"
      ]
     },
     "metadata": {},
     "output_type": "display_data"
    },
    {
     "data": {
      "image/png": "[encoded data removed]",
      "text/plain": [
       "<Figure size 640x480 with 1 Axes>"
      ]
     },
     "metadata": {},
     "output_type": "display_data"
    },
    {
     "data": {
      "image/png": "[encoded data removed]",
      "text/plain": [
       "<Figure size 640x480 with 2 Axes>"
      ]
     },
     "metadata": {},
     "output_type": "display_data"
    }
   ],
   "source": [
    "# Perform a sanity check on some random validation samples\n",
    "ix = random.randint(0, len(preds_val_t))\n",
    "imshow(X_train[int(X_train.shape[0]*0.9):][ix])\n",
    "plt.show()\n",
    "imshow(np.squeeze(Y_train[int(Y_train.shape[0]*0.9):][ix]))\n",
    "plt.show()\n",
    "imshow(np.squeeze(preds_val_t[ix]))\n",
    "plt.show()"
   ]
  },
  {
   "cell_type": "code",
   "execution_count": 17,
   "metadata": {
    "execution": {
     "iopub.execute_input": "2022-02-04T23:42:33.362607Z",
     "iopub.status.busy": "2022-02-04T23:42:33.361738Z",
     "iopub.status.idle": "2022-02-04T23:42:33.829951Z",
     "shell.execute_reply": "2022-02-04T23:42:33.829446Z"
    },
    "papermill": {
     "duration": 0.686614,
     "end_time": "2022-02-04T23:42:33.830100",
     "exception": false,
     "start_time": "2022-02-04T23:42:33.143486",
     "status": "completed"
    },
    "tags": []
   },
   "outputs": [
    {
     "ename": "IndexError",
     "evalue": "index 67 is out of bounds for axis 0 with size 67",
     "output_type": "error",
     "traceback": [
      "\u001b[1;31m---------------------------------------------------------------------------\u001b[0m",
      "\u001b[1;31mIndexError\u001b[0m                                Traceback (most recent call last)",
      "Cell \u001b[1;32mIn[17], line 3\u001b[0m\n\u001b[0;32m      1\u001b[0m \u001b[39m# Sanity check on random val samples\u001b[39;00m\n\u001b[0;32m      2\u001b[0m ix \u001b[39m=\u001b[39m random\u001b[39m.\u001b[39mrandint(\u001b[39m0\u001b[39m, \u001b[39mlen\u001b[39m(preds_val_t))\n\u001b[1;32m----> 3\u001b[0m imshow(X_train[\u001b[39mint\u001b[39;49m(X_train\u001b[39m.\u001b[39;49mshape[\u001b[39m0\u001b[39;49m]\u001b[39m*\u001b[39;49m\u001b[39m0.9\u001b[39;49m):][ix])\n\u001b[0;32m      4\u001b[0m plt\u001b[39m.\u001b[39mshow()\n\u001b[0;32m      5\u001b[0m imshow(np\u001b[39m.\u001b[39msqueeze(Y_train[\u001b[39mint\u001b[39m(X_train\u001b[39m.\u001b[39mshape[\u001b[39m0\u001b[39m]\u001b[39m*\u001b[39m\u001b[39m0.9\u001b[39m):][ix]))\n",
      "\u001b[1;31mIndexError\u001b[0m: index 67 is out of bounds for axis 0 with size 67"
     ]
    }
   ],
   "source": [
    "# Sanity check on random val samples\n",
    "ix = random.randint(0, len(preds_val_t))\n",
    "imshow(X_train[int(X_train.shape[0]*0.9):][ix])\n",
    "plt.show()\n",
    "imshow(np.squeeze(Y_train[int(X_train.shape[0]*0.9):][ix]))\n",
    "plt.show()\n",
    "imshow(np.squeeze(preds_val_t[ix]))\n",
    "plt.show()"
   ]
  },
  {
   "attachments": {},
   "cell_type": "markdown",
   "metadata": {
    "papermill": {
     "duration": 0.247173,
     "end_time": "2022-02-04T23:42:34.291086",
     "exception": false,
     "start_time": "2022-02-04T23:42:34.043913",
     "status": "completed"
    },
    "tags": []
   },
   "source": [
    "<hr>\n",
    "<br>\n",
    "<div align='justify'><font color=\"#353B47\" size=\"4\">Thank you for taking the time to read this notebook. I hope that I was able to answer your questions or your curiosity and that it was quite understandable. <u>any constructive comments are welcome</u>. They help me to progress and motivate me to share better quality content. I am above all a passionate person who tries to advance my knowledge but also that of others. If you liked it, just let me know <u>i'd appreciate.</u> </font></div>\n",
    "<br>\n",
    "<div align='center'><font color=\"#353B47\" size=\"3\">Thank you and may passion guide you.</font></div>"
   ]
  },
  {
   "attachments": {},
   "cell_type": "markdown",
   "metadata": {},
   "source": []
  }
 ],
 "metadata": {
  "kernelspec": {
   "display_name": "Python 3",
   "language": "python",
   "name": "python3"
  },
  "language_info": {
   "codemirror_mode": {
    "name": "ipython",
    "version": 3
   },
   "file_extension": ".py",
   "mimetype": "text/x-python",
   "name": "python",
   "nbconvert_exporter": "python",
   "pygments_lexer": "ipython3",
   "version": "3.10.9"
  },
  "papermill": {
   "default_parameters": {},
   "duration": 300.434344,
   "end_time": "2022-02-04T23:42:36.019152",
   "environment_variables": {},
   "exception": null,
   "input_path": "__notebook__.ipynb",
   "output_path": "__notebook__.ipynb",
   "parameters": {},
   "start_time": "2022-02-04T23:37:35.584808",
   "version": "2.2.2"
  }
 },
 "nbformat": 4,
 "nbformat_minor": 4
}
